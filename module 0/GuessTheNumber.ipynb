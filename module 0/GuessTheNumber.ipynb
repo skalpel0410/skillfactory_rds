{
 "cells": [
  {
   "cell_type": "code",
   "execution_count": null,
   "metadata": {
    "scrolled": true,
    "pycharm": {
     "is_executing": true
    }
   },
   "outputs": [
    {
     "name": "stdout",
     "output_type": "stream",
     "text": [
      "A number from 1 to 99 is hidden\n"
     ]
    }
   ],
   "source": [
    "import numpy as np\n",
    "import random\n",
    "count = 0                            # the attempt counter\n",
    "number = np.random.randint(1,100)    # made a number from 1 to 100\n",
    "print (\"A number from 1 to 99 is hidden\")\n",
    "\n",
    "def game_core_v3(number):\n",
    "    '''Start with min = 1, max = 99, predict = 50\n",
    "    if predict is less than the number - use predict as maximum, \n",
    "    if predict is greater than the number - use predict as minimum,\n",
    "    define a new predict by determining the half sum of the minimum and maximum'''\n",
    "    count = 0\n",
    "    min = 1\n",
    "    max = 99\n",
    "    predict = 50\n",
    "    while number != predict:\n",
    "        count+=1\n",
    "        if number > predict: \n",
    "            min = predict\n",
    "        elif number < predict: \n",
    "            max = predict\n",
    "        predict = (max+min) // 2 \n",
    "    return(count) # return the number of attempts\n",
    "\n",
    "\n",
    "def score_game(game_core_v3):\n",
    "    '''Run the game 1000 times to find out how fast the game guesses the number'''\n",
    "    count_ls = []\n",
    "    np.random.seed(1)  # fixing RANDOM SEED so that your experiment is reproducible!\n",
    "    random_array = np.random.randint(100, size=(1000))\n",
    "    for number in random_array:\n",
    "        count_ls.append(game_core_v3(number))\n",
    "    score = int(np.mean(count_ls))\n",
    "    print(f\"Your algorithm guesses the hidden number of {score} attempts\")\n",
    "    return(score)\n",
    "\n",
    "\n",
    "\n",
    "score_game(game_core_v3)"
   ]
  }
 ],
 "metadata": {
  "kernelspec": {
   "display_name": "Python 3",
   "language": "python",
   "name": "python3"
  },
  "language_info": {
   "codemirror_mode": {
    "name": "ipython",
    "version": 3
   },
   "file_extension": ".py",
   "mimetype": "text/x-python",
   "name": "python",
   "nbconvert_exporter": "python",
   "pygments_lexer": "ipython3",
   "version": "3.7.6"
  }
 },
 "nbformat": 4,
 "nbformat_minor": 4
}